{
 "cells": [
  {
   "cell_type": "code",
   "execution_count": 12,
   "id": "946cfc92",
   "metadata": {},
   "outputs": [],
   "source": [
    "import pandas as pd\n",
    "import numpy as np\n",
    "import io\n",
    "import pandas_profiling\n",
    "import matplotlib.pyplot as plt\n",
    "\n",
    "# Baca dataset uncleaned_raw.csv\n",
    "uncleaned_raw = pd.read_csv('https://storage.googleapis.com/dqlab-dataset/uncleaned_raw.csv')"
   ]
  },
  {
   "cell_type": "code",
   "execution_count": 2,
   "id": "e061acbe",
   "metadata": {},
   "outputs": [
    {
     "name": "stdout",
     "output_type": "stream",
     "text": [
      "Lima data teratas:\n",
      "   InvoiceNo                          Description  Quantity     InvoiceDate  \\\n",
      "0     536365   WHITE HANGING HEART T-LIGHT HOLDER       6.0  12/01/10 08.26   \n",
      "1     536366                  WHITE METAL LANTERN       6.0  12/01/10 08.26   \n",
      "2     536367       CREAM CUPID HEARTS COAT HANGER       8.0  12/01/10 08.26   \n",
      "3     536368  KNITTED UNION FLAG HOT WATER BOTTLE       6.0  12/01/10 08.26   \n",
      "4     536369       RED WOOLLY HOTTIE WHITE HEART.       6.0  12/01/10 08.26   \n",
      "\n",
      "   UnitPrice  CustomerID      City  \n",
      "0      29000       17850  Surabaya  \n",
      "1      41000       17850  Surabaya  \n",
      "2      18000       17850  Surabaya  \n",
      "3      38000       17850   Jakarta  \n",
      "4      27000       17850     Medan  \n"
     ]
    }
   ],
   "source": [
    "#inspeksi dataframe uncleaned_raw\n",
    "print('Lima data teratas:') \n",
    "print(uncleaned_raw.head())"
   ]
  },
  {
   "cell_type": "code",
   "execution_count": 3,
   "id": "8a0745e1",
   "metadata": {},
   "outputs": [
    {
     "name": "stdout",
     "output_type": "stream",
     "text": [
      "\n",
      "Kolom dengan missing value:\n",
      "InvoiceNo      False\n",
      "Description    False\n",
      "Quantity        True\n",
      "InvoiceDate    False\n",
      "UnitPrice      False\n",
      "CustomerID     False\n",
      "City           False\n",
      "dtype: bool\n"
     ]
    }
   ],
   "source": [
    "#Check kolom yang mengandung missing value\n",
    "print('\\nKolom dengan missing value:') \n",
    "print(uncleaned_raw.isnull().any())"
   ]
  },
  {
   "cell_type": "code",
   "execution_count": 6,
   "id": "01581654",
   "metadata": {},
   "outputs": [
    {
     "name": "stdout",
     "output_type": "stream",
     "text": [
      "Persentase missing value kolom Quantity: 4.0%\n"
     ]
    }
   ],
   "source": [
    "#Persentase missing value\n",
    "length_qty = len(uncleaned_raw['Quantity'])\n",
    "count_qty = uncleaned_raw['Quantity'].count()\n",
    "\n",
    "#mengurangi length dengan count\n",
    "number_of_missing_values_qty = length_qty - count_qty\n",
    "\n",
    "#mengubah ke bentuk float\n",
    "float_of_missing_values_qty = float(number_of_missing_values_qty / length_qty) \n",
    "\n",
    "#mengubah ke dalam bentuk persen\n",
    "pct_of_missing_values_qty = '{0:.1f}%'.format(float_of_missing_values_qty*100) \n",
    "\n",
    "#print hasil percent dari missing value\n",
    "print('Persentase missing value kolom Quantity:', pct_of_missing_values_qty)"
   ]
  },
  {
   "cell_type": "code",
   "execution_count": 8,
   "id": "fb29f038",
   "metadata": {},
   "outputs": [],
   "source": [
    "#Mengisi missing value tersebut dengan mean dari kolom tersebut\n",
    "uncleaned_raw['Quantity'] = uncleaned_raw['Quantity'].fillna(uncleaned_raw['Quantity'].mean())"
   ]
  },
  {
   "cell_type": "code",
   "execution_count": 44,
   "id": "5fc24786",
   "metadata": {},
   "outputs": [],
   "source": [
    "import pandas as pd\n",
    "import numpy as np\n",
    "import io\n",
    "import pandas_profiling\n",
    "import matplotlib\n",
    "matplotlib.use('TkAgg')\n",
    "import matplotlib.pyplot as plt\n",
    "\n",
    "uncleaned_raw = pd.read_csv('https://storage.googleapis.com/dqlab-dataset/uncleaned_raw.csv')\n",
    "uncleaned_raw['Quantity'] = uncleaned_raw['Quantity'].fillna(uncleaned_raw['Quantity'].mean())\n",
    "\n",
    "#Mengetahui kolom yang memiliki outliers!\n",
    "uncleaned_raw.boxplot()\n",
    "plt.show()\n",
    "\n",
    "#Gambar akan dilampirkan dalam folder"
   ]
  },
  {
   "cell_type": "code",
   "execution_count": 82,
   "id": "8cf18691",
   "metadata": {},
   "outputs": [
    {
     "name": "stdout",
     "output_type": "stream",
     "text": [
      "0      False\n",
      "1      False\n",
      "2      False\n",
      "3      False\n",
      "4      False\n",
      "5      False\n",
      "6      False\n",
      "7      False\n",
      "8      False\n",
      "9      False\n",
      "10     False\n",
      "11     False\n",
      "12     False\n",
      "13     False\n",
      "14     False\n",
      "16     False\n",
      "20     False\n",
      "21     False\n",
      "23     False\n",
      "24     False\n",
      "27     False\n",
      "35     False\n",
      "43     False\n",
      "44     False\n",
      "48     False\n",
      "53     False\n",
      "55     False\n",
      "65     False\n",
      "70     False\n",
      "79     False\n",
      "86     False\n",
      "403    False\n",
      "dtype: bool\n"
     ]
    }
   ],
   "source": [
    "#Check IQR\n",
    "Q1 = uncleaned_raw['UnitPrice'].quantile(0.25)\n",
    "Q3 = uncleaned_raw['UnitPrice'].quantile(0.75)\n",
    "IQR = Q3 - Q1\n",
    "\n",
    "#removing outliers\n",
    "uncleaned_raw = uncleaned_raw[~((uncleaned_raw[['UnitPrice']] < (Q1 - 1.5 * IQR)) | (uncleaned_raw[['UnitPrice']] > (Q3 + 1.5 * IQR)))]\n",
    "\n",
    "#check for duplication\n",
    "print(uncleaned_raw.duplicated(subset=None))"
   ]
  },
  {
   "cell_type": "code",
   "execution_count": 57,
   "id": "e44e1abb",
   "metadata": {},
   "outputs": [
    {
     "name": "stdout",
     "output_type": "stream",
     "text": [
      "     InvoiceNo Description  Quantity InvoiceDate  UnitPrice  CustomerID City\n",
      "0          NaN         NaN       NaN         NaN    29000.0         NaN  NaN\n",
      "1          NaN         NaN       NaN         NaN    41000.0         NaN  NaN\n",
      "2          NaN         NaN       NaN         NaN    18000.0         NaN  NaN\n",
      "3          NaN         NaN       NaN         NaN    38000.0         NaN  NaN\n",
      "4          NaN         NaN       NaN         NaN    27000.0         NaN  NaN\n",
      "5          NaN         NaN       NaN         NaN    24000.0         NaN  NaN\n",
      "6          NaN         NaN       NaN         NaN    26000.0         NaN  NaN\n",
      "7          NaN         NaN       NaN         NaN    44000.0         NaN  NaN\n",
      "8          NaN         NaN       NaN         NaN    28000.0         NaN  NaN\n",
      "9          NaN         NaN       NaN         NaN    17000.0         NaN  NaN\n",
      "10         NaN         NaN       NaN         NaN    30000.0         NaN  NaN\n",
      "11         NaN         NaN       NaN         NaN    33000.0         NaN  NaN\n",
      "12         NaN         NaN       NaN         NaN    40000.0         NaN  NaN\n",
      "13         NaN         NaN       NaN         NaN    16000.0         NaN  NaN\n",
      "14         NaN         NaN       NaN         NaN    42000.0         NaN  NaN\n",
      "16         NaN         NaN       NaN         NaN    25000.0         NaN  NaN\n",
      "20         NaN         NaN       NaN         NaN    32000.0         NaN  NaN\n",
      "21         NaN         NaN       NaN         NaN    22000.0         NaN  NaN\n",
      "23         NaN         NaN       NaN         NaN    19000.0         NaN  NaN\n",
      "24         NaN         NaN       NaN         NaN    35000.0         NaN  NaN\n",
      "27         NaN         NaN       NaN         NaN    45000.0         NaN  NaN\n",
      "35         NaN         NaN       NaN         NaN    21000.0         NaN  NaN\n",
      "43         NaN         NaN       NaN         NaN    37000.0         NaN  NaN\n",
      "44         NaN         NaN       NaN         NaN    23000.0         NaN  NaN\n",
      "48         NaN         NaN       NaN         NaN    43000.0         NaN  NaN\n",
      "53         NaN         NaN       NaN         NaN    34000.0         NaN  NaN\n",
      "55         NaN         NaN       NaN         NaN    36000.0         NaN  NaN\n",
      "65         NaN         NaN       NaN         NaN    15000.0         NaN  NaN\n",
      "70         NaN         NaN       NaN         NaN    31000.0         NaN  NaN\n",
      "79         NaN         NaN       NaN         NaN    39000.0         NaN  NaN\n",
      "86         NaN         NaN       NaN         NaN    20000.0         NaN  NaN\n",
      "403        NaN         NaN       NaN         NaN        NaN         NaN  NaN\n"
     ]
    }
   ],
   "source": [
    "#remove duplication\n",
    "print(uncleaned_raw.drop_duplicates())"
   ]
  }
 ],
 "metadata": {
  "kernelspec": {
   "display_name": "Python 3",
   "language": "python",
   "name": "python3"
  },
  "language_info": {
   "codemirror_mode": {
    "name": "ipython",
    "version": 3
   },
   "file_extension": ".py",
   "mimetype": "text/x-python",
   "name": "python",
   "nbconvert_exporter": "python",
   "pygments_lexer": "ipython3",
   "version": "3.8.8"
  }
 },
 "nbformat": 4,
 "nbformat_minor": 5
}
